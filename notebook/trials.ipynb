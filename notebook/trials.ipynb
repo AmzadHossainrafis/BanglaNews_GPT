{
 "cells": [
  {
   "cell_type": "code",
   "execution_count": 1,
   "metadata": {},
   "outputs": [],
   "source": [
    "from bnlp import CleanText\n",
    "clean_text = CleanText(\n",
    "   fix_unicode=True,\n",
    "   unicode_norm=True,\n",
    "   unicode_norm_form=\"NFKC\",\n",
    "   remove_url=True,\n",
    "   remove_email=False,\n",
    "   remove_emoji=False,\n",
    "   remove_number=True,\n",
    "   remove_digits=False,\n",
    "   remove_punct=False,\n",
    "   replace_with_url=\"<URL>\",\n",
    "   replace_with_email=\"<EMAIL>\",\n",
    "   replace_with_number=\"<NUMBER>\",\n",
    "   replace_with_digit=\"<DIGIT>\",\n",
    "   replace_with_punct = \"<PUNC>\"\n",
    ")\n",
    "\n"
   ]
  },
  {
   "cell_type": "code",
   "execution_count": 2,
   "metadata": {},
   "outputs": [],
   "source": [
    "class SimpleTokenizerV2:\n",
    "    def __init__(self, vocab):\n",
    "        self.str_to_int = vocab\n",
    "        self.int_to_str = { i:s for s,i in vocab.items()}\n",
    "    \n",
    "    def encode(self, text):\n",
    "        preprocessed = re.split(r'([,.:;?_!\"()\\']|--|\\s)', text)\n",
    "        preprocessed = [item.strip() for item in preprocessed if item.strip()]\n",
    "        preprocessed = [\n",
    "            item if item in self.str_to_int \n",
    "            else \"<|unk|>\" for item in preprocessed\n",
    "\n",
    "        ]\n",
    "        # replace \n",
    "\n",
    "        ids = [self.str_to_int[s] for s in preprocessed]\n",
    "        return ids\n",
    "        \n",
    "    def decode(self, ids):\n",
    "        text = \" \".join([self.int_to_str[i] for i in ids])\n",
    "        # Replace spaces before the specified punctuations\n",
    "        text = re.sub(r'\\s+([,.:;?!\"()\\'])', r'\\1', text)\n",
    "        # replce all the \n",
    "        return text"
   ]
  },
  {
   "cell_type": "code",
   "execution_count": 3,
   "metadata": {},
   "outputs": [
    {
     "ename": "NameError",
     "evalue": "name 'vocab' is not defined",
     "output_type": "error",
     "traceback": [
      "\u001b[0;31m---------------------------------------------------------------------------\u001b[0m",
      "\u001b[0;31mNameError\u001b[0m                                 Traceback (most recent call last)",
      "Cell \u001b[0;32mIn[3], line 2\u001b[0m\n\u001b[1;32m      1\u001b[0m text\u001b[38;5;241m=\u001b[39m\u001b[38;5;124m'\u001b[39m\u001b[38;5;124mল্লিশচুয়াল্লিশ চল্লিশ ‘মানে?’ অবাক চোখে রানাকে দেখল বেলা। ‘রাইফেল তাক করো আমার মাথায়, বোকা মেয়ে,\u001b[39m\u001b[38;5;124m'\u001b[39m\n\u001b[0;32m----> 2\u001b[0m tokenizer \u001b[38;5;241m=\u001b[39m SimpleTokenizerV2(\u001b[43mvocab\u001b[49m)\n\u001b[1;32m      3\u001b[0m ids \u001b[38;5;241m=\u001b[39m tokenizer\u001b[38;5;241m.\u001b[39mencode(text)\n\u001b[1;32m      4\u001b[0m \u001b[38;5;28mprint\u001b[39m(ids)\n",
      "\u001b[0;31mNameError\u001b[0m: name 'vocab' is not defined"
     ]
    }
   ],
   "source": [
    "text='ল্লিশচুয়াল্লিশ চল্লিশ ‘মানে?’ অবাক চোখে রানাকে দেখল বেলা। ‘রাইফেল তাক করো আমার মাথায়, বোকা মেয়ে,'\n",
    "tokenizer = SimpleTokenizerV2(vocab)\n",
    "ids = tokenizer.encode(text)\n",
    "print(ids)\n",
    "tokenizer.decode(ids)\n"
   ]
  },
  {
   "cell_type": "code",
   "execution_count": 5,
   "metadata": {},
   "outputs": [
    {
     "ename": "NameError",
     "evalue": "name 'vocab' is not defined",
     "output_type": "error",
     "traceback": [
      "\u001b[0;31m---------------------------------------------------------------------------\u001b[0m",
      "\u001b[0;31mNameError\u001b[0m                                 Traceback (most recent call last)",
      "Cell \u001b[0;32mIn[5], line 2\u001b[0m\n\u001b[1;32m      1\u001b[0m text\u001b[38;5;241m=\u001b[39m\u001b[38;5;124m'\u001b[39m\u001b[38;5;124m।\u001b[39m\u001b[38;5;124m'\u001b[39m\n\u001b[0;32m----> 2\u001b[0m tokenizer \u001b[38;5;241m=\u001b[39m SimpleTokenizerV2(\u001b[43mvocab\u001b[49m)\n\u001b[1;32m      3\u001b[0m ids \u001b[38;5;241m=\u001b[39m tokenizer\u001b[38;5;241m.\u001b[39mencode(text)\n\u001b[1;32m      4\u001b[0m \u001b[38;5;28mprint\u001b[39m(ids)\n",
      "\u001b[0;31mNameError\u001b[0m: name 'vocab' is not defined"
     ]
    }
   ],
   "source": [
    "text='।'\n",
    "tokenizer = SimpleTokenizerV2(vocab)\n",
    "ids = tokenizer.encode(text)\n",
    "print(ids)\n",
    "tokenizer.decode(ids)\n"
   ]
  },
  {
   "cell_type": "code",
   "execution_count": 4,
   "metadata": {},
   "outputs": [
    {
     "ename": "NameError",
     "evalue": "name 'tokenizer' is not defined",
     "output_type": "error",
     "traceback": [
      "\u001b[0;31m---------------------------------------------------------------------------\u001b[0m",
      "\u001b[0;31mNameError\u001b[0m                                 Traceback (most recent call last)",
      "Cell \u001b[0;32mIn[4], line 9\u001b[0m\n\u001b[1;32m      2\u001b[0m \u001b[38;5;28;01mimport\u001b[39;00m \u001b[38;5;21;01mtiktoken\u001b[39;00m\n\u001b[1;32m      5\u001b[0m text \u001b[38;5;241m=\u001b[39m (\n\u001b[1;32m      6\u001b[0m     \u001b[38;5;124m\"\u001b[39m\u001b[38;5;124mল্লিশচুয়াল্লিশ চল্লিশ ‘মানে?’ অবাক চোখে রানাকে দেখল বেলা। ‘রাইফেল তাক করো আমার মাথায়, বোকা মেয়ে,\u001b[39m\u001b[38;5;124m\"\u001b[39m\n\u001b[1;32m      7\u001b[0m )\n\u001b[0;32m----> 9\u001b[0m integers \u001b[38;5;241m=\u001b[39m \u001b[43mtokenizer\u001b[49m\u001b[38;5;241m.\u001b[39mencode(text, allowed_special\u001b[38;5;241m=\u001b[39m{\u001b[38;5;124m\"\u001b[39m\u001b[38;5;124m<|endoftext|>\u001b[39m\u001b[38;5;124m\"\u001b[39m})\n\u001b[1;32m     11\u001b[0m \u001b[38;5;28mprint\u001b[39m(integers)\n",
      "\u001b[0;31mNameError\u001b[0m: name 'tokenizer' is not defined"
     ]
    }
   ],
   "source": [
    "import importlib\n",
    "import tiktoken\n",
    "\n",
    "\n",
    "text = (\n",
    "    \"ল্লিশচুয়াল্লিশ চল্লিশ ‘মানে?’ অবাক চোখে রানাকে দেখল বেলা। ‘রাইফেল তাক করো আমার মাথায়, বোকা মেয়ে,\"\n",
    ")\n",
    "\n",
    "integers = tokenizer.encode(text, allowed_special={\"<|endoftext|>\"})\n",
    "\n",
    "print(integers)\n"
   ]
  },
  {
   "cell_type": "code",
   "execution_count": 5,
   "metadata": {},
   "outputs": [],
   "source": [
    "from bnlp import BasicTokenizer\n",
    "basic_tokenizer = BasicTokenizer()\n",
    "from bnlp import CleanText\n",
    "clean_text = CleanText(\n",
    "   fix_unicode=True,\n",
    "   unicode_norm=True,\n",
    "   unicode_norm_form=\"NFKC\",\n",
    "   remove_url=True,\n",
    "   remove_email=False,\n",
    "   remove_emoji=False,\n",
    "   remove_number=True,\n",
    "   remove_digits=False,\n",
    "   remove_punct=False,\n",
    "   replace_with_url=\"<URL>\",\n",
    "   replace_with_email=\"<EMAIL>\",\n",
    "   replace_with_number=\"<NUMBER>\",\n",
    "   replace_with_digit=\"<DIGIT>\",\n",
    "   replace_with_punct = \"<PUNC>\"\n",
    ")\n"
   ]
  },
  {
   "cell_type": "code",
   "execution_count": 6,
   "metadata": {},
   "outputs": [
    {
     "name": "stdout",
     "output_type": "stream",
     "text": [
      "272242\n"
     ]
    }
   ],
   "source": [
    "\n",
    "with open(\"/home/amzad/Desktop/bangla_GPT/dataset/demo_text.txt\", \"r\", encoding=\"utf-8\") as f:\n",
    "    raw_text = f.read()\n",
    "print(len(raw_text))\n",
    "import re\n",
    "def remove_english_word(text):\n",
    "    text = re.sub(r'[a-zA-Z]', '', text)\n",
    "    return text\n",
    "\n"
   ]
  },
  {
   "cell_type": "code",
   "execution_count": 7,
   "metadata": {},
   "outputs": [
    {
     "ename": "NameError",
     "evalue": "name 'basic_tokenizer' is not defined",
     "output_type": "error",
     "traceback": [
      "\u001b[0;31m---------------------------------------------------------------------------\u001b[0m",
      "\u001b[0;31mNameError\u001b[0m                                 Traceback (most recent call last)",
      "Cell \u001b[0;32mIn[7], line 4\u001b[0m\n\u001b[1;32m      1\u001b[0m row_text \u001b[38;5;241m=\u001b[39m clean_text(raw_text)\n\u001b[1;32m      2\u001b[0m row_text \u001b[38;5;241m=\u001b[39m remove_english_word(raw_text)\n\u001b[0;32m----> 4\u001b[0m tokens \u001b[38;5;241m=\u001b[39m \u001b[43mbasic_tokenizer\u001b[49m\u001b[38;5;241m.\u001b[39mtokenize(raw_text)\n\u001b[1;32m      5\u001b[0m \u001b[38;5;28mprint\u001b[39m(\u001b[38;5;28mlen\u001b[39m(tokens))\n",
      "\u001b[0;31mNameError\u001b[0m: name 'basic_tokenizer' is not defined"
     ]
    }
   ],
   "source": [
    "row_text = clean_text(raw_text)\n",
    "row_text = remove_english_word(raw_text)\n",
    "\n",
    "tokens = basic_tokenizer.tokenize(raw_text)\n",
    "print(len(tokens))"
   ]
  },
  {
   "cell_type": "code",
   "execution_count": 68,
   "metadata": {},
   "outputs": [
    {
     "name": "stdout",
     "output_type": "stream",
     "text": [
      "7767\n"
     ]
    }
   ],
   "source": [
    "all_words = sorted(set(tokens))\n",
    "all_words.extend([\"<|endoftext|>\", \"<|unk|>\"])\n",
    "vocab_size = len(all_words)\n",
    "\n",
    "print(vocab_size)\n",
    "vocab = {token:integer for integer,token in enumerate(all_words)}"
   ]
  },
  {
   "cell_type": "code",
   "execution_count": 69,
   "metadata": {},
   "outputs": [
    {
     "name": "stdout",
     "output_type": "stream",
     "text": [
      "('!', 0)\n",
      "('*', 1)\n",
      "(',', 2)\n",
      "('-', 3)\n",
      "('.', 4)\n",
      "('.৫০', 5)\n",
      "('/', 6)\n",
      "('00', 7)\n",
      "('07', 8)\n",
      "('1', 9)\n",
      "('15', 10)\n",
      "('9mm', 11)\n",
      "(':', 12)\n",
      "(';', 13)\n",
      "('?', 14)\n",
      "('FAMAS', 15)\n",
      "('I', 16)\n",
      "('LUGER.', 17)\n",
      "('WIN', 18)\n",
      "('́তা', 19)\n",
      "('।', 20)\n",
      "('অংশ', 21)\n",
      "('অংশে', 22)\n",
      "('অংশের', 23)\n",
      "('অকথ্য', 24)\n",
      "('অকাতরে', 25)\n",
      "('অক্টোবর', 26)\n",
      "('অক্ষত', 27)\n",
      "('অক্ষরে', 28)\n",
      "('অক্সিজেনেই', 29)\n",
      "('অখাদ্য', 30)\n",
      "('অখুশি', 31)\n",
      "('অগভীর', 32)\n",
      "('অঙ্কে', 33)\n",
      "('অঙ্কের', 34)\n",
      "('অচেতন', 35)\n",
      "('অচেনা', 36)\n",
      "('অজস্র', 37)\n",
      "('অজান্তেই', 38)\n",
      "('অজ্ঞান', 39)\n",
      "('অটোকারস্', 40)\n",
      "('অটোমেটিক', 41)\n",
      "('অটোমেটিকে', 42)\n",
      "('অটোম্যান', 43)\n",
      "('অঢেল', 44)\n",
      "('অণুজীব', 45)\n",
      "('অণ্ডকোষ', 46)\n",
      "('অণ্ডকোষে', 47)\n",
      "('অত', 48)\n",
      "('অতটা', 49)\n",
      "('অতি', 50)\n",
      "('অতিরিক্ত', 51)\n",
      "('অতীত', 52)\n",
      "('অতীতে', 53)\n",
      "('অতীতের', 54)\n",
      "('অত্যন্ত', 55)\n",
      "('অত্যাচার', 56)\n",
      "('অত্যাধুনিক', 57)\n",
      "('অথচ', 58)\n",
      "('অথবা', 59)\n",
      "('অদ্ভুত', 60)\n",
      "('অধার্মিক', 61)\n",
      "('অধিকার', 62)\n",
      "('অধীনে', 63)\n",
      "('অধৈর্য', 64)\n",
      "('অন', 65)\n",
      "('অনর্থক', 66)\n",
      "('অনলাইনে', 67)\n",
      "('অনায়াসে', 68)\n",
      "('অনায়াসেই', 69)\n",
      "('অনিক্স', 70)\n",
      "('অনিচ্ছাসত্ত্বেও', 71)\n",
      "('অনিয়মিত', 72)\n",
      "('অনিশ্চিত', 73)\n",
      "('অনুচর', 74)\n",
      "('অনুচরের', 75)\n",
      "('অনুচিত', 76)\n",
      "('অনুজ্জ্বল', 77)\n",
      "('অনুভূতি', 78)\n",
      "('অনুভূতির', 79)\n",
      "('অনুমতি', 80)\n",
      "('অনুযায়ী', 81)\n",
      "('অনুরোধ', 82)\n",
      "('অনুরোধে', 83)\n",
      "('অনুরোধের', 84)\n",
      "('অনুষ্ঠানে', 85)\n",
      "('অনুসরণ', 86)\n",
      "('অনুসারীদের', 87)\n",
      "('অনেক', 88)\n",
      "('অনেকক্ষণ', 89)\n",
      "('অনেকটা', 90)\n",
      "('অনেকে', 91)\n",
      "('অনেকের', 92)\n",
      "('অনেকেরই', 93)\n",
      "('অন্তত', 94)\n",
      "('অন্তর', 95)\n",
      "('অন্তরঙ্গ', 96)\n",
      "('অন্তর্ভেদী', 97)\n",
      "('অন্ধ', 98)\n",
      "('অন্ধকার', 99)\n",
      "('অন্ধকারে', 100)\n"
     ]
    }
   ],
   "source": [
    "#disply 100 words in the vocab dict\n",
    "for i, item in enumerate(vocab.items()):\n",
    "    print(item)\n",
    "    if i >= 100:\n",
    "        break"
   ]
  },
  {
   "cell_type": "code",
   "execution_count": 10,
   "metadata": {},
   "outputs": [
    {
     "ename": "NameError",
     "evalue": "name 'vocab' is not defined",
     "output_type": "error",
     "traceback": [
      "\u001b[0;31m---------------------------------------------------------------------------\u001b[0m",
      "\u001b[0;31mNameError\u001b[0m                                 Traceback (most recent call last)",
      "Cell \u001b[0;32mIn[10], line 23\u001b[0m\n\u001b[1;32m     19\u001b[0m         text \u001b[38;5;241m=\u001b[39m re\u001b[38;5;241m.\u001b[39msub(\u001b[38;5;124mr\u001b[39m\u001b[38;5;124m'\u001b[39m\u001b[38;5;124m\\\u001b[39m\u001b[38;5;124ms+([,.:;?!\u001b[39m\u001b[38;5;124m\"\u001b[39m\u001b[38;5;124m()\u001b[39m\u001b[38;5;130;01m\\'\u001b[39;00m\u001b[38;5;124m])\u001b[39m\u001b[38;5;124m'\u001b[39m, \u001b[38;5;124mr\u001b[39m\u001b[38;5;124m'\u001b[39m\u001b[38;5;124m\\\u001b[39m\u001b[38;5;124m1\u001b[39m\u001b[38;5;124m'\u001b[39m, text)\n\u001b[1;32m     20\u001b[0m         \u001b[38;5;28;01mreturn\u001b[39;00m text\n\u001b[0;32m---> 23\u001b[0m tokenizer \u001b[38;5;241m=\u001b[39m SimpleTokenizer(\u001b[43mvocab\u001b[49m)\n\u001b[1;32m     25\u001b[0m text \u001b[38;5;241m=\u001b[39m \u001b[38;5;124m\"\u001b[39m\u001b[38;5;124mমানচল্লিশ ‘মানে?’ অবাক চোখে রানাকে দেখল বেলা। ‘রাইফেল তাক করো আমার মাথায়, বোকা মেয়ে,’ বলল রানা।\u001b[39m\u001b[38;5;124m\"\u001b[39m\n\u001b[1;32m     26\u001b[0m ids \u001b[38;5;241m=\u001b[39m tokenizer\u001b[38;5;241m.\u001b[39mencode(text)\n",
      "\u001b[0;31mNameError\u001b[0m: name 'vocab' is not defined"
     ]
    }
   ],
   "source": [
    "class SimpleTokenizer: \n",
    "    def __init__(self, vocab):\n",
    "        self.str_to_int = vocab\n",
    "        self.int_to_str = {i:s for s,i in vocab.items()}\n",
    "\n",
    "\n",
    "    def encode(self, text):\n",
    "\n",
    "        preprocessed = basic_tokenizer.tokenize(text)\n",
    "        preprocessed = [item.strip() for item in preprocessed if item.strip()]\n",
    "        preprocessed = [\n",
    "            item if item in self.str_to_int else \"<|unk|>\" for item in preprocessed\n",
    "        ]\n",
    "        \n",
    "        ids = [self.str_to_int[s] for s in preprocessed]\n",
    "        return ids\n",
    "    def decode(self, ids):\n",
    "        text = \" \".join([self.int_to_str[i] for i in ids])\n",
    "        text = re.sub(r'\\s+([,.:;?!\"()\\'])', r'\\1', text)\n",
    "        return text\n",
    "    \n",
    "\n",
    "tokenizer = SimpleTokenizer(vocab)\n",
    "\n",
    "text = \"মানচল্লিশ ‘মানে?’ অবাক চোখে রানাকে দেখল বেলা। ‘রাইফেল তাক করো আমার মাথায়, বোকা মেয়ে,’ বলল রানা।\"\n",
    "ids = tokenizer.encode(text)\n",
    "tokenizer.decode(ids)\n",
    "tokenizer.decode(tokenizer.encode(text))\n",
    "\n",
    "\n",
    "#'চল্লিশ ‘ মানে? ’ অবাক চোখে রানাকে দেখল বেলা । ‘ রাইফেল তাক করো আমার মাথায়, বোকা মেয়ে, ’ বলল রানা ।'\n",
    "#'চল্লিশ ‘ মানে ? ’ অবাক চোখে রানাকে দেখল বেলা । ‘ রাইফেল তাক করো আমার মাথায় , বোকা মেয়ে , ’ বলল রানা ।'"
   ]
  },
  {
   "cell_type": "code",
   "execution_count": null,
   "metadata": {},
   "outputs": [
    {
     "ename": "NameError",
     "evalue": "name 'tokenizer' is not defined",
     "output_type": "error",
     "traceback": [
      "\u001b[0;31m---------------------------------------------------------------------------\u001b[0m",
      "\u001b[0;31mNameError\u001b[0m                                 Traceback (most recent call last)",
      "Cell \u001b[0;32mIn[8], line 1\u001b[0m\n\u001b[0;32m----> 1\u001b[0m token_Id \u001b[38;5;241m=\u001b[39m \u001b[43mtokenizer\u001b[49m\u001b[38;5;241m.\u001b[39mencode(\u001b[38;5;124m\"\u001b[39m\u001b[38;5;124m।\u001b[39m\u001b[38;5;124m\"\u001b[39m)\n\u001b[1;32m      2\u001b[0m \u001b[38;5;28mprint\u001b[39m(token_Id)\n\u001b[1;32m      3\u001b[0m text \u001b[38;5;241m=\u001b[39m tokenizer\u001b[38;5;241m.\u001b[39mdecode([\u001b[38;5;241m20\u001b[39m])\n",
      "\u001b[0;31mNameError\u001b[0m: name 'tokenizer' is not defined"
     ]
    }
   ],
   "source": [
    "token_Id = tokenizer.encode(\"।\")\n",
    "print(token_Id)\n",
    "text = tokenizer.decode([20])\n",
    "print(text)"
   ]
  },
  {
   "cell_type": "code",
   "execution_count": 72,
   "metadata": {},
   "outputs": [
    {
     "name": "stdout",
     "output_type": "stream",
     "text": [
      "মানচল্লিশ ‘মানে?’ অবাক চোখে রানাকে দেখল বেলা।<|endoftext|> রাইফেল তাক করো আমার মাথায়, বোকা মেয়ে,’ বলল রানা।\n"
     ]
    }
   ],
   "source": [
    "import tiktoken\n",
    "tokenizer = tiktoken.get_encoding(\"gpt2\")\n",
    "text = \"মানচল্লিশ ‘মানে?’ অবাক চোখে রানাকে দেখল বেলা।<|endoftext|> রাইফেল তাক করো আমার মাথায়, বোকা মেয়ে,’ বলল রানা।\"\n",
    "integers = tokenizer.encode(text, allowed_special={\"<|endoftext|>\"})\n",
    "\n",
    "strings = tokenizer.decode(integers)\n",
    "print(strings)\n"
   ]
  },
  {
   "cell_type": "code",
   "execution_count": 11,
   "metadata": {},
   "outputs": [],
   "source": [
    "# Create dataset and dataloader that extract chunks from the input text dataset\n",
    "from torch.utils.data import Dataset, DataLoader\n",
    "import torch\n",
    "import tiktoken\n",
    "tokenizer = tiktoken.get_encoding(\"gpt2\")\n",
    "\n",
    "\n",
    "class GPTDatasetV1(Dataset):\n",
    "    def __init__(self, txt, tokenizer, max_length, stride):\n",
    "        self.input_ids = []\n",
    "        self.target_ids = []\n",
    "\n",
    "        # Tokenize the entire text\n",
    "        token_ids = tokenizer.encode(txt, allowed_special={\"<|endoftext|>\"})\n",
    "\n",
    "        # Use a sliding window to chunk the book into overlapping sequences of max_length\n",
    "        for i in range(0, len(token_ids) - max_length, stride):\n",
    "            input_chunk = token_ids[i:i + max_length]\n",
    "            target_chunk = token_ids[i + 1: i + max_length + 1]\n",
    "            self.input_ids.append(torch.tensor(input_chunk))\n",
    "            self.target_ids.append(torch.tensor(target_chunk))\n",
    "\n",
    "    def __len__(self):\n",
    "        return len(self.input_ids)\n",
    "\n",
    "    def __getitem__(self, idx):\n",
    "        return self.input_ids[idx], self.target_ids[idx]"
   ]
  },
  {
   "cell_type": "code",
   "execution_count": 12,
   "metadata": {},
   "outputs": [],
   "source": [
    "def create_dataloader_v1(txt, batch_size=4, max_length=256, \n",
    "                         stride=128, shuffle=True, drop_last=True,\n",
    "                         num_workers=0):\n",
    "\n",
    "    # Initialize the tokenizer\n",
    "    tokenizer = tiktoken.get_encoding(\"gpt2\")\n",
    "\n",
    "    # Create dataset\n",
    "    dataset = GPTDatasetV1(txt, tokenizer, max_length, stride)\n",
    "\n",
    "    # Create dataloader\n",
    "    dataloader = DataLoader(\n",
    "        dataset,\n",
    "        batch_size=batch_size,\n",
    "        shuffle=shuffle,\n",
    "        drop_last=drop_last,\n",
    "        num_workers=num_workers\n",
    "    )\n",
    "\n",
    "    return dataloader"
   ]
  },
  {
   "cell_type": "code",
   "execution_count": 13,
   "metadata": {},
   "outputs": [
    {
     "name": "stdout",
     "output_type": "stream",
     "text": [
      "[tensor([[  220,   220, 48071,   116]]), tensor([[  220, 48071,   116,   156]])]\n"
     ]
    }
   ],
   "source": [
    "dataloader = create_dataloader_v1(\n",
    "    raw_text, batch_size=1, max_length=4, stride=1, shuffle=False\n",
    ")\n",
    "\n",
    "data_iter = iter(dataloader)\n",
    "first_batch = next(data_iter)\n",
    "print(first_batch)"
   ]
  },
  {
   "cell_type": "code",
   "execution_count": 14,
   "metadata": {},
   "outputs": [
    {
     "name": "stdout",
     "output_type": "stream",
     "text": [
      "[tensor([[  220, 48071,   116,   156]]), tensor([[48071,   116,   156,   100]])]\n"
     ]
    }
   ],
   "source": [
    "second_batch = next(data_iter)\n",
    "print(second_batch)"
   ]
  },
  {
   "cell_type": "code",
   "execution_count": 15,
   "metadata": {},
   "outputs": [
    {
     "name": "stdout",
     "output_type": "stream",
     "text": [
      "Inputs:\n",
      " tensor([[  220,   220, 48071,   116],\n",
      "        [  156,   100,   224, 48071],\n",
      "        [  248, 48071,   123, 48071],\n",
      "        [  103, 48071,    97,   156],\n",
      "        [  100,   235, 48071,   108],\n",
      "        [48071,   248, 48071,   110],\n",
      "        [  156,   100,   235, 48071],\n",
      "        [  110, 48071,   123, 48071]])\n",
      "\n",
      "Targets:\n",
      " tensor([[  220, 48071,   116,   156],\n",
      "        [  100,   224, 48071,   248],\n",
      "        [48071,   123, 48071,   103],\n",
      "        [48071,    97,   156,   100],\n",
      "        [  235, 48071,   108, 48071],\n",
      "        [  248, 48071,   110,   156],\n",
      "        [  100,   235, 48071,   110],\n",
      "        [48071,   123, 48071,   114]])\n"
     ]
    }
   ],
   "source": [
    "dataloader = create_dataloader_v1(raw_text, batch_size=8, max_length=4, stride=4, shuffle=False)\n",
    "\n",
    "data_iter = iter(dataloader)\n",
    "inputs, targets = next(data_iter)\n",
    "print(\"Inputs:\\n\", inputs)\n",
    "print(\"\\nTargets:\\n\", targets)"
   ]
  },
  {
   "cell_type": "code",
   "execution_count": 16,
   "metadata": {},
   "outputs": [
    {
     "name": "stdout",
     "output_type": "stream",
     "text": [
      "torch.Size([8, 4, 256])\n"
     ]
    }
   ],
   "source": [
    "import tiktoken\n",
    "import torch\n",
    "from torch.utils.data import Dataset, DataLoader\n",
    "\n",
    "\n",
    "class GPTDatasetV1(Dataset):\n",
    "    def __init__(self, txt, tokenizer, max_length, stride):\n",
    "        self.input_ids = []\n",
    "        self.target_ids = []\n",
    "\n",
    "        # Tokenize the entire text\n",
    "        token_ids = tokenizer.encode(txt, allowed_special={\"<|endoftext|>\"})\n",
    "\n",
    "        # Use a sliding window to chunk the book into overlapping sequences of max_length\n",
    "        for i in range(0, len(token_ids) - max_length, stride):\n",
    "            input_chunk = token_ids[i:i + max_length]\n",
    "            target_chunk = token_ids[i + 1: i + max_length + 1]\n",
    "            self.input_ids.append(torch.tensor(input_chunk))\n",
    "            self.target_ids.append(torch.tensor(target_chunk))\n",
    "\n",
    "    def __len__(self):\n",
    "        return len(self.input_ids)\n",
    "\n",
    "    def __getitem__(self, idx):\n",
    "        return self.input_ids[idx], self.target_ids[idx]\n",
    "\n",
    "\n",
    "def create_dataloader_v1(txt, batch_size, max_length, stride,\n",
    "                         shuffle=True, drop_last=True, num_workers=0):\n",
    "    # Initialize the tokenizer\n",
    "    tokenizer = tiktoken.get_encoding(\"gpt2\")\n",
    "\n",
    "    # Create dataset\n",
    "    dataset = GPTDatasetV1(txt, tokenizer, max_length, stride)\n",
    "\n",
    "    # Create dataloader\n",
    "    dataloader = DataLoader(\n",
    "        dataset, batch_size=batch_size, shuffle=shuffle, drop_last=drop_last, num_workers=num_workers)\n",
    "\n",
    "    return dataloader\n",
    "\n",
    "\n",
    "# with open(\"the-verdict.txt\", \"r\", encoding=\"utf-8\") as f:\n",
    "#     raw_text = f.read()\n",
    "\n",
    "vocab_size = 50257\n",
    "output_dim = 256\n",
    "context_length = 1024\n",
    "\n",
    "\n",
    "token_embedding_layer = torch.nn.Embedding(vocab_size, output_dim)\n",
    "pos_embedding_layer = torch.nn.Embedding(context_length, output_dim)\n",
    "\n",
    "batch_size = 8\n",
    "max_length = 4\n",
    "dataloader = create_dataloader_v1(\n",
    "    raw_text,\n",
    "    batch_size=batch_size,\n",
    "    max_length=max_length,\n",
    "    stride=max_length\n",
    ")\n",
    "for batch in dataloader:\n",
    "    x, y = batch\n",
    "\n",
    "    token_embeddings = token_embedding_layer(x)\n",
    "    pos_embeddings = pos_embedding_layer(torch.arange(max_length))\n",
    "\n",
    "    input_embeddings = token_embeddings + pos_embeddings\n",
    "\n",
    "    break\n",
    "print(input_embeddings.shape)"
   ]
  }
 ],
 "metadata": {
  "kernelspec": {
   "display_name": "torch_env",
   "language": "python",
   "name": "python3"
  },
  "language_info": {
   "codemirror_mode": {
    "name": "ipython",
    "version": 3
   },
   "file_extension": ".py",
   "mimetype": "text/x-python",
   "name": "python",
   "nbconvert_exporter": "python",
   "pygments_lexer": "ipython3",
   "version": "3.9.19"
  }
 },
 "nbformat": 4,
 "nbformat_minor": 2
}
