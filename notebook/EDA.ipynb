{
 "cells": [
  {
   "cell_type": "code",
   "execution_count": 1,
   "metadata": {},
   "outputs": [],
   "source": [
    "import pandas as pd "
   ]
  },
  {
   "cell_type": "code",
   "execution_count": 2,
   "metadata": {},
   "outputs": [],
   "source": [
    "aritical_dir = r\"/home/amzad/Desktop/bangla_GPT/dataset/Bengali-News-Summarization-Dataset/article.txt\"\n",
    "summary_dir = r\"/home/amzad/Desktop/bangla_GPT/dataset/Bengali-News-Summarization-Dataset/summary.txt\"\n",
    "\n",
    "def read_file(file_dir):\n",
    "    with open(file_dir, 'r') as file:\n",
    "        data = file.read()\n",
    "    return data\n",
    "\n",
    "def write_file(file_dir, data):\n",
    "    with open(file_dir, 'w') as file:\n",
    "        file.write(data)\n",
    "\n",
    "def read_data(file_dir):\n",
    "    data = read_file(file_dir)\n",
    "    data = data.split('\\n')\n",
    "    return data\n",
    "\n",
    "x = read_data(aritical_dir) \n",
    "y = read_data(summary_dir) \n"
   ]
  },
  {
   "cell_type": "code",
   "execution_count": null,
   "metadata": {},
   "outputs": [],
   "source": [
    "print(len(x), len(y)) "
   ]
  },
  {
   "cell_type": "code",
   "execution_count": 4,
   "metadata": {},
   "outputs": [],
   "source": [
    "x = x[:10]\n",
    "y = y[:10]"
   ]
  },
  {
   "cell_type": "code",
   "execution_count": null,
   "metadata": {},
   "outputs": [],
   "source": [
    "print(x)\n",
    "print(y)"
   ]
  },
  {
   "cell_type": "code",
   "execution_count": null,
   "metadata": {},
   "outputs": [],
   "source": [
    "import requests\n",
    "\n",
    "def scrape_website(url):\n",
    "    response = requests.get(f\"https://llm-automation.sslwireless.com/api/scrap-by-url?url={url}\")\n",
    "    if response.status_code == 200:\n",
    "        return response.json()\n",
    "    else:\n",
    "        return None\n",
    "\n",
    "# Example usage\n",
    "url_to_scrape = 'https://www.ebanglalibrary.com/lessons/%e0%a6%85%e0%a6%aa%e0%a6%b6%e0%a6%95%e0%a7%8d%e0%a6%a4%e0%a6%bf-%e0%a7%a7/'\n",
    "scraped_data = scrape_website(url_to_scrape)\n",
    "if scraped_data:\n",
    "    print(scraped_data)\n",
    "else:\n",
    "    print(\"Failed to scrape the website.\")"
   ]
  },
  {
   "cell_type": "code",
   "execution_count": null,
   "metadata": {},
   "outputs": [],
   "source": [
    "import requests\n",
    "from bs4 import BeautifulSoup\n",
    "from urllib.parse import urljoin, urlparse\n",
    "\n",
    "visited_links = {\n",
    "    \"https://www.ebanglalibrary.com/\" : \"https://www.ebanglalibrary.com/\",\n",
    "    \n",
    "}\n",
    "queue = [\"https://www.ebanglalibrary.com/\"] \n",
    "\n",
    "\n",
    "def scrape_links(start_url):\n",
    "    while queue:\n",
    "        url = queue.pop(0)\n",
    "        response = requests.get(url)\n",
    "        if response.status_code == 200:\n",
    "            soup = BeautifulSoup(response.text, 'html.parser')\n",
    "            for link in soup.find_all('a'):\n",
    "                href = link.get('href')\n",
    "                if href is not None:\n",
    "                    href = urljoin(url, href)\n",
    "                    if urlparse(href).netloc == urlparse(start_url).netloc:\n",
    "                        if visited_links.get(href) is None:\n",
    "                            visited_links[href] = href\n",
    "                            queue.append(href)\n",
    "        else:\n",
    "            print(f\"Failed to scrape {url}\")\n",
    "    \n",
    "# Example usage\n",
    "start_url = \"https://www.ebanglalibrary.com/\"\n",
    "scrape_links(start_url)"
   ]
  },
  {
   "cell_type": "code",
   "execution_count": 19,
   "metadata": {},
   "outputs": [
    {
     "data": {
      "text/plain": [
       "16410"
      ]
     },
     "execution_count": 19,
     "metadata": {},
     "output_type": "execute_result"
    }
   ],
   "source": [
    "len(visited_links)"
   ]
  },
  {
   "cell_type": "code",
   "execution_count": 25,
   "metadata": {},
   "outputs": [
    {
     "data": {
      "text/plain": [
       "['https://www.ebanglalibrary.com/',\n",
       " 'https://www.ebanglalibrary.com/#genesis-content',\n",
       " 'https://www.ebanglalibrary.com/#nav-header-right',\n",
       " 'https://www.ebanglalibrary.com/#site-footer',\n",
       " 'https://www.ebanglalibrary.com/books/',\n",
       " 'https://www.ebanglalibrary.com/%e0%a6%b2%e0%a7%87%e0%a6%96%e0%a6%95/',\n",
       " 'https://www.ebanglalibrary.com/%e0%a6%b8%e0%a6%bf%e0%a6%b0%e0%a6%bf%e0%a6%9c/',\n",
       " 'https://www.ebanglalibrary.com/genres/',\n",
       " 'https://www.ebanglalibrary.com/%e0%a6%b2%e0%a7%87%e0%a6%96%e0%a6%95-%e0%a6%b0%e0%a6%9a%e0%a6%a8%e0%a6%be/',\n",
       " 'https://www.ebanglalibrary.com/my-account/',\n",
       " 'https://www.ebanglalibrary.com/category/%e0%a6%ac%e0%a6%be%e0%a6%82%e0%a6%b2%e0%a6%be-%e0%a6%a1%e0%a6%bf%e0%a6%95%e0%a6%b6%e0%a6%a8%e0%a6%be%e0%a6%b0%e0%a6%bf/',\n",
       " 'https://www.ebanglalibrary.com/category/%e0%a6%ac%e0%a6%be%e0%a6%82%e0%a6%b2%e0%a6%be-%e0%a6%95%e0%a7%8c%e0%a6%a4%e0%a7%81%e0%a6%95/',\n",
       " 'https://www.ebanglalibrary.com/category/%e0%a6%ac%e0%a6%be%e0%a6%82%e0%a6%b2%e0%a6%be-%e0%a6%b2%e0%a6%bf%e0%a6%b0%e0%a6%bf%e0%a6%95/',\n",
       " 'https://www.ebanglalibrary.com/category/%e0%a6%ac%e0%a6%be%e0%a6%82%e0%a6%b2%e0%a6%be-%e0%a6%b0%e0%a7%87%e0%a6%b8%e0%a6%bf%e0%a6%aa%e0%a6%bf/',\n",
       " 'https://www.ebanglalibrary.com/%E0%A6%B2%E0%A7%87%E0%A6%96%E0%A6%95/',\n",
       " 'https://www.ebanglalibrary.com/%E0%A6%B8%E0%A6%BF%E0%A6%B0%E0%A6%BF%E0%A6%9C/',\n",
       " 'https://www.ebanglalibrary.com/books/%e0%a6%ac%e0%a6%a8%e0%a7%8d%e0%a6%a6%e0%a6%b0-%e0%a6%b8%e0%a7%81%e0%a6%a8%e0%a7%8d%e0%a6%a6%e0%a6%b0%e0%a7%80-%e0%a6%b9%e0%a6%bf%e0%a6%ae%e0%a6%be%e0%a6%a6%e0%a7%8d%e0%a6%b0%e0%a6%bf%e0%a6%95/',\n",
       " 'https://www.ebanglalibrary.com/books/%e0%a6%86%e0%a6%81%e0%a6%a7%e0%a6%be%e0%a6%b0-%e0%a6%86%e0%a6%96%e0%a7%8d%e0%a6%af%e0%a6%be%e0%a6%a8-%e0%a6%95%e0%a7%8c%e0%a6%b6%e0%a6%bf%e0%a6%95-%e0%a6%ae%e0%a6%9c%e0%a7%81%e0%a6%ae%e0%a6%a6/',\n",
       " 'https://www.ebanglalibrary.com/books/%e0%a6%ac%e0%a6%be%e0%a6%a4%e0%a6%be%e0%a6%b8%e0%a7%87-%e0%a6%97%e0%a7%81%e0%a6%a8%e0%a6%97%e0%a7%81%e0%a6%a8-%e0%a6%96%e0%a6%be%e0%a6%a6%e0%a6%bf%e0%a6%9c%e0%a6%be-%e0%a6%ae%e0%a6%bf%e0%a6%ae/',\n",
       " 'https://www.ebanglalibrary.com/books/%e0%a6%a4%e0%a7%8b%e0%a6%ae%e0%a6%be%e0%a6%af%e0%a6%bc-%e0%a6%b9%e0%a7%83%e0%a6%a6-%e0%a6%ae%e0%a6%be%e0%a6%9d%e0%a6%be%e0%a6%b0%e0%a7%87-%e0%a6%b0%e0%a6%be%e0%a6%96%e0%a6%ac%e0%a7%8b-%e0%a6%ae/',\n",
       " 'https://www.ebanglalibrary.com/books/%e0%a6%ac%e0%a7%83%e0%a6%b6%e0%a7%8d%e0%a6%9a%e0%a6%bf%e0%a6%95%e0%a6%9a%e0%a6%95%e0%a7%8d%e0%a6%b0-%e0%a6%aa%e0%a6%bf%e0%a6%af%e0%a6%bc%e0%a6%be-%e0%a6%b8%e0%a6%b0%e0%a6%95%e0%a6%be%e0%a6%b0/',\n",
       " 'https://www.ebanglalibrary.com/books/%e0%a6%a4%e0%a7%87%e0%a6%87%e0%a6%b2%e0%a7%8d%e0%a6%af%e0%a6%be-%e0%a6%9a%e0%a7%8b%e0%a6%b0%e0%a6%be-%e0%a6%93%e0%a6%ac%e0%a6%be%e0%a6%af%e0%a6%bc%e0%a7%87%e0%a6%a6-%e0%a6%b9%e0%a6%95/',\n",
       " 'https://www.ebanglalibrary.com/books/%e0%a6%aa%e0%a6%9e%e0%a7%8d%e0%a6%9a%e0%a6%a4%e0%a6%a8%e0%a7%8d%e0%a6%a4%e0%a7%8d%e0%a6%b0-%e0%a6%ac%e0%a6%bf%e0%a6%b7%e0%a7%8d%e0%a6%a3%e0%a7%81-%e0%a6%b6%e0%a6%b0%e0%a7%8d%e0%a6%ae%e0%a6%be/',\n",
       " 'https://www.ebanglalibrary.com/books/%e0%a6%b9%e0%a7%87%e0%a6%ae%e0%a6%b2%e0%a6%95%e0%a7%87%e0%a6%b0-%e0%a6%a8%e0%a6%bf%e0%a6%ae%e0%a6%a8%e0%a7%8d%e0%a6%a4%e0%a7%8d%e0%a6%b0%e0%a6%a3-%e0%a6%b8%e0%a7%81%e0%a6%9c%e0%a6%a8-%e0%a6%a6/',\n",
       " 'https://www.ebanglalibrary.com/books/%e0%a6%b8%e0%a7%82%e0%a6%b0%e0%a7%8d%e0%a6%af-%e0%a6%ac%e0%a6%bf%e0%a6%a8%e0%a7%8b%e0%a6%a6%e0%a6%bf%e0%a6%a8%e0%a7%80-%e0%a6%85%e0%a6%ad%e0%a7%80%e0%a6%95-%e0%a6%ae%e0%a7%81%e0%a6%96%e0%a7%8b/',\n",
       " 'https://www.ebanglalibrary.com/books/%e0%a6%af%e0%a6%be%e0%a6%b0%e0%a6%be-%e0%a6%ad%e0%a7%8b%e0%a6%b0-%e0%a6%8f%e0%a6%a8%e0%a7%87%e0%a6%9b%e0%a6%bf%e0%a6%b2-%e0%a6%86%e0%a6%a8%e0%a6%bf%e0%a6%b8%e0%a7%81%e0%a6%b2-%e0%a6%b9%e0%a6%95/',\n",
       " 'https://www.ebanglalibrary.com/books/%e0%a6%b6%e0%a7%8d%e0%a6%ac%e0%a6%be%e0%a6%aa%e0%a6%a6-%e0%a6%b8%e0%a6%a8%e0%a7%87-%e0%a6%a8%e0%a6%be%e0%a6%ac%e0%a6%bf%e0%a6%b2-%e0%a6%ae%e0%a7%81%e0%a6%b9%e0%a6%a4%e0%a6%be%e0%a6%b8%e0%a6%bf/',\n",
       " 'https://www.ebanglalibrary.com/books/%e0%a6%b0%e0%a7%81%e0%a6%a6%e0%a7%8d%e0%a6%b0-%e0%a6%96%e0%a6%be%e0%a6%a6%e0%a6%bf%e0%a6%9c%e0%a6%be-%e0%a6%ae%e0%a6%bf%e0%a6%ae/',\n",
       " 'https://www.ebanglalibrary.com/books/%e0%a6%ae%e0%a6%be%e0%a6%b8%e0%a7%81%e0%a6%a6-%e0%a6%b0%e0%a6%be%e0%a6%a8%e0%a6%be-%e0%a7%aa%e0%a7%ac%e0%a7%a7-%e0%a6%85%e0%a6%aa%e0%a6%b6%e0%a6%95%e0%a7%8d%e0%a6%a4%e0%a6%bf/',\n",
       " 'https://www.ebanglalibrary.com/books/%e0%a6%ae%e0%a6%be%e0%a6%b8%e0%a7%81%e0%a6%a6-%e0%a6%b0%e0%a6%be%e0%a6%a8%e0%a6%be-%e0%a7%aa%e0%a7%ad%e0%a7%a7-%e0%a6%a8%e0%a6%b0%e0%a6%95%e0%a7%87%e0%a6%b0-%e0%a6%b6%e0%a6%b9%e0%a6%b0/',\n",
       " 'https://www.ebanglalibrary.com/books/%e0%a6%ae%e0%a6%be%e0%a6%b8%e0%a7%81%e0%a6%a6-%e0%a6%b0%e0%a6%be%e0%a6%a8%e0%a6%be-%e0%a7%a8%e0%a7%a7%e0%a7%ad-%e0%a6%93-%e0%a7%a8%e0%a7%a7%e0%a7%ae-%e0%a6%85%e0%a6%a8%e0%a7%8d%e0%a6%a7-%e0%a6%b6/',\n",
       " 'https://www.ebanglalibrary.com/books/%e0%a6%a4%e0%a6%bf%e0%a6%a8-%e0%a6%97%e0%a7%8b%e0%a6%af%e0%a6%bc%e0%a7%87%e0%a6%a8%e0%a7%8d%e0%a6%a6%e0%a6%be-%e0%a6%ad%e0%a6%b2%e0%a6%bf%e0%a6%89%e0%a6%ae-%e0%a7%a7%e0%a7%a9%e0%a7%a9-%e0%a6%b6/',\n",
       " 'https://www.ebanglalibrary.com/books/%e0%a6%ae%e0%a6%be%e0%a6%b8%e0%a7%81%e0%a6%a6-%e0%a6%b0%e0%a6%be%e0%a6%a8%e0%a6%be-%e0%a7%aa%e0%a7%ad%e0%a7%a6-%e0%a6%95%e0%a6%be%e0%a6%b2%e0%a6%ac%e0%a7%87%e0%a6%b2%e0%a6%be/',\n",
       " 'https://www.ebanglalibrary.com/books/%e0%a6%ae%e0%a6%be%e0%a6%b8%e0%a7%81%e0%a6%a6-%e0%a6%b0%e0%a6%be%e0%a6%a8%e0%a6%be-%e0%a7%aa%e0%a7%ac%e0%a7%af-%e0%a6%95%e0%a6%bf%e0%a6%b2%e0%a6%bf%e0%a6%82-%e0%a6%ae%e0%a6%bf%e0%a6%b6%e0%a6%a8/',\n",
       " 'https://www.ebanglalibrary.com/books/%e0%a6%b8%e0%a7%82%e0%a6%b0%e0%a7%8d%e0%a6%af%e0%a6%a4%e0%a6%be%e0%a6%ae%e0%a6%b8%e0%a7%80-%e0%a6%95%e0%a7%8c%e0%a6%b6%e0%a6%bf%e0%a6%95-%e0%a6%ae%e0%a6%9c%e0%a7%81%e0%a6%ae%e0%a6%a6%e0%a6%be/',\n",
       " 'https://www.ebanglalibrary.com/books/%e0%a6%9c%e0%a6%be%e0%a6%a6%e0%a7%81%e0%a6%95%e0%a6%b0-%e0%a6%b8%e0%a6%a4%e0%a7%8d%e0%a6%af%e0%a6%9a%e0%a6%b0%e0%a6%a3%e0%a7%87%e0%a6%b0-%e0%a6%9c%e0%a6%be%e0%a6%a6%e0%a7%81-%e0%a6%95%e0%a6%be/',\n",
       " 'https://www.ebanglalibrary.com/books/%e0%a6%96%e0%a7%81%e0%a6%81%e0%a6%9c%e0%a7%87-%e0%a6%96%e0%a7%81%e0%a6%81%e0%a6%9c%e0%a7%87-%e0%a6%96%e0%a7%81%e0%a6%a8-%e0%a6%87%e0%a6%a8%e0%a7%8d%e0%a6%a6%e0%a7%8d%e0%a6%b0%e0%a6%a8%e0%a7%80/',\n",
       " 'https://www.ebanglalibrary.com/books/%e0%a6%aa%e0%a6%be%e0%a6%81%e0%a6%9a%e0%a6%95%e0%a6%a1%e0%a6%bc%e0%a6%bf-%e0%a6%a6%e0%a7%87-%e0%a6%b0%e0%a6%9a%e0%a6%a8%e0%a6%be%e0%a6%ac%e0%a6%b2%e0%a7%80-%e0%a7%ab-%e0%a7%ab%e0%a6%ae-%e0%a6%96/',\n",
       " 'https://www.ebanglalibrary.com/books/%e0%a6%aa%e0%a6%be%e0%a6%81%e0%a6%9a%e0%a6%95%e0%a6%a1%e0%a6%bc%e0%a6%bf-%e0%a6%a6%e0%a7%87-%e0%a6%b0%e0%a6%9a%e0%a6%a8%e0%a6%be%e0%a6%ac%e0%a6%b2%e0%a7%80-%e0%a7%aa-%e0%a7%aa%e0%a6%b0%e0%a7%8d/',\n",
       " 'https://www.ebanglalibrary.com/books/%e0%a6%aa%e0%a6%be%e0%a6%81%e0%a6%9a%e0%a6%95%e0%a6%a1%e0%a6%bc%e0%a6%bf-%e0%a6%a6%e0%a7%87-%e0%a6%b0%e0%a6%9a%e0%a6%a8%e0%a6%be%e0%a6%ac%e0%a6%b2%e0%a7%80-%e0%a7%a9-%e0%a6%a4%e0%a7%83%e0%a6%a4/',\n",
       " 'https://www.ebanglalibrary.com/books/%e0%a7%ac%e0%a7%ab-%e0%a6%b6%e0%a6%be%e0%a6%a8%e0%a7%8d%e0%a6%a4%e0%a6%bf%e0%a6%b0-%e0%a6%a6%e0%a7%8d%e0%a6%ac%e0%a7%80%e0%a6%aa%e0%a7%87-%e0%a6%b8%e0%a6%82%e0%a6%98%e0%a6%be%e0%a6%a4/',\n",
       " 'https://www.ebanglalibrary.com/books/%e0%a6%87%e0%a6%b8%e0%a6%b2%e0%a6%be%e0%a6%ae-%e0%a6%93-%e0%a6%85%e0%a6%b0%e0%a7%8d%e0%a6%a5%e0%a6%a8%e0%a7%88%e0%a6%a4%e0%a6%bf%e0%a6%95-%e0%a6%9a%e0%a7%8d%e0%a6%af%e0%a6%be%e0%a6%b2%e0%a7%87/',\n",
       " 'https://www.ebanglalibrary.com/books/%e0%a6%86%e0%a6%b2%e0%a7%8d%e0%a6%b2%e0%a6%be%e0%a6%b9%e0%a6%b0-%e0%a6%b0%e0%a6%be%e0%a6%b8%e0%a7%81%e0%a6%b2-%e0%a6%95%e0%a6%bf%e0%a6%ad%e0%a6%be%e0%a6%ac%e0%a7%87-%e0%a6%a8%e0%a6%be%e0%a6%ae/',\n",
       " 'https://www.ebanglalibrary.com/books/%e0%a6%87%e0%a6%b8%e0%a6%b2%e0%a6%be%e0%a6%ae%e0%a7%87%e0%a6%b0-%e0%a6%89%e0%a6%aa%e0%a6%b0-%e0%a7%aa%e0%a7%a6%e0%a6%9f%e0%a6%bf-%e0%a6%aa%e0%a7%8d%e0%a6%b0%e0%a6%b6%e0%a7%8d%e0%a6%a8-%e0%a6%93/',\n",
       " 'https://www.ebanglalibrary.com/books/%e0%a6%87%e0%a6%b8%e0%a6%b2%e0%a6%be%e0%a6%ae-%e0%a6%aa%e0%a7%82%e0%a6%b0%e0%a7%8d%e0%a6%a3%e0%a6%be%e0%a6%99%e0%a7%8d%e0%a6%97-%e0%a6%9c%e0%a7%80%e0%a6%ac%e0%a6%a8-%e0%a6%ac%e0%a7%8d%e0%a6%af/',\n",
       " 'https://www.ebanglalibrary.com/books/%e0%a6%95%e0%a6%ac%e0%a7%80%e0%a6%b0%e0%a6%be-%e0%a6%97%e0%a7%81%e0%a6%a8%e0%a6%be%e0%a6%b9/',\n",
       " 'https://www.ebanglalibrary.com/books/%e0%a6%b6%e0%a7%8d%e0%a6%af%e0%a6%be%e0%a6%ae%e0%a6%be%e0%a6%99%e0%a7%8d%e0%a6%97%e0%a7%80%e0%a6%b0-%e0%a6%88%e0%a6%b6%e0%a7%8d%e0%a6%ac%e0%a6%b0-%e0%a6%b8%e0%a6%a8%e0%a7%8d%e0%a6%a7%e0%a6%be%e0%a6%a8/',\n",
       " 'https://www.ebanglalibrary.com/books/%e0%a6%a8%e0%a6%b0%e0%a7%8d%e0%a6%b8-%e0%a6%ae%e0%a6%bf%e0%a6%a5%e0%a7%8b%e0%a6%b2%e0%a6%9c%e0%a6%bf-%e0%a6%a8%e0%a7%80%e0%a6%b2-%e0%a6%97%e0%a7%87%e0%a6%87%e0%a6%ae%e0%a7%8d%e0%a6%af%e0%a6%be/',\n",
       " 'https://www.ebanglalibrary.com/books/%e0%a6%a6%e0%a7%8d%e0%a6%af-%e0%a6%a8%e0%a7%87%e0%a6%ae-%e0%a6%85%e0%a6%ac-%e0%a6%a6%e0%a7%8d%e0%a6%af-%e0%a6%97%e0%a7%87%e0%a6%ae-%e0%a6%87%e0%a6%9c-%e0%a6%85%e0%a7%8d%e0%a6%af%e0%a6%be-%e0%a6%95/',\n",
       " 'https://www.ebanglalibrary.com/books/%e0%a6%ac%e0%a6%bf%e0%a6%ab%e0%a7%8b%e0%a6%b0-%e0%a6%a6%e0%a7%8d%e0%a6%af-%e0%a6%95%e0%a6%ab%e0%a6%bf-%e0%a6%97%e0%a7%87%e0%a6%9f%e0%a6%b8-%e0%a6%95%e0%a7%8b%e0%a6%b2%e0%a7%8d%e0%a6%a1-%e0%a6%a4/',\n",
       " 'https://www.ebanglalibrary.com/books/%e0%a6%a6%e0%a7%8d%e0%a6%af-%e0%a6%ae%e0%a6%bf%e0%a6%a5-%e0%a6%85%e0%a6%ac-%e0%a6%b8%e0%a6%bf%e0%a6%b8%e0%a6%bf%e0%a6%ab%e0%a6%be%e0%a6%b8-%e0%a6%86%e0%a6%b2%e0%a6%ac%e0%a7%87%e0%a6%af%e0%a6%bc/',\n",
       " 'https://www.ebanglalibrary.com/books/%e0%a6%b8%e0%a7%8d%e0%a6%9f%e0%a7%8b%e0%a6%b0%e0%a6%bf%e0%a6%9c-%e0%a6%a8%e0%a6%bf%e0%a6%b2-%e0%a6%97%e0%a7%87%e0%a6%87%e0%a6%ae%e0%a7%8d%e0%a6%af%e0%a6%be%e0%a6%a8/',\n",
       " 'https://www.ebanglalibrary.com/books/%e0%a6%86%e0%a6%ae%e0%a6%be%e0%a6%b0-%e0%a6%95%e0%a6%a5%e0%a6%be-%e0%a6%ac%e0%a6%bf%e0%a6%a8%e0%a7%8b%e0%a6%a6%e0%a6%bf%e0%a6%a8%e0%a7%80-%e0%a6%a6%e0%a6%be%e0%a6%b8%e0%a7%80/',\n",
       " 'https://www.ebanglalibrary.com/books/%e0%a6%b0%e0%a6%be%e0%a6%9c%e0%a6%ae%e0%a6%be%e0%a6%b2%e0%a6%be-%e0%a6%ac%e0%a6%be-%e0%a6%a4%e0%a7%8d%e0%a6%b0%e0%a6%bf%e0%a6%aa%e0%a7%81%e0%a6%b0%e0%a6%be%e0%a6%b0-%e0%a6%87%e0%a6%a4%e0%a6%bf/',\n",
       " 'https://www.ebanglalibrary.com/books/%e0%a6%87%e0%a6%b8%e0%a7%8d%e0%a6%9f-%e0%a6%87%e0%a6%a8%e0%a7%8d%e0%a6%a1%e0%a6%bf%e0%a6%af%e0%a6%bc%e0%a6%be-%e0%a6%95%e0%a7%8b%e0%a6%ae%e0%a7%8d%e0%a6%aa%e0%a6%be%e0%a6%a8%e0%a6%bf-%e0%a6%93/',\n",
       " 'https://www.ebanglalibrary.com/books/%e0%a6%aa%e0%a6%b2%e0%a6%be%e0%a6%b6%e0%a7%80%e0%a6%b0-%e0%a6%b7%e0%a6%a1%e0%a6%bc%e0%a6%af%e0%a6%a8%e0%a7%8d%e0%a6%a4%e0%a7%8d%e0%a6%b0-%e0%a6%93-%e0%a6%b8%e0%a7%87%e0%a6%95%e0%a6%be%e0%a6%b2/',\n",
       " 'https://www.ebanglalibrary.com/books/%e0%a6%86%e0%a6%ae%e0%a6%be%e0%a6%b0-%e0%a6%ac%e0%a7%8b%e0%a6%95%e0%a6%be-%e0%a6%b6%e0%a7%88%e0%a6%b6%e0%a6%ac-%e0%a6%86%e0%a6%ac%e0%a6%a6%e0%a7%81%e0%a6%b2%e0%a7%8d%e0%a6%b2%e0%a6%be%e0%a6%b9/',\n",
       " 'https://www.ebanglalibrary.com/books/%e0%a6%a6%e0%a6%be%e0%a6%b8%e0%a6%a4%e0%a7%8d%e0%a6%ac-%e0%a6%a8%e0%a6%af%e0%a6%bc-%e0%a6%b8%e0%a7%8d%e0%a6%ac%e0%a6%be%e0%a6%a7%e0%a7%80%e0%a6%a8%e0%a6%a4%e0%a6%be-%e0%a6%97%e0%a7%8c%e0%a6%b0/',\n",
       " 'https://www.ebanglalibrary.com/genres/editors-choice/',\n",
       " 'https://www.ebanglalibrary.com/genres/english-books/',\n",
       " 'https://www.ebanglalibrary.com/genres/%e0%a6%ac%e0%a6%be%e0%a6%82%e0%a6%b2%e0%a6%be-%e0%a6%85%e0%a6%a8%e0%a7%81%e0%a6%ac%e0%a6%be%e0%a6%a6-%e0%a6%ac%e0%a6%87/',\n",
       " 'https://www.ebanglalibrary.com/genres/%e0%a6%85%e0%a6%b8%e0%a6%ae%e0%a7%8d%e0%a6%aa%e0%a7%82%e0%a6%b0%e0%a7%8d%e0%a6%a3-%e0%a6%ac%e0%a6%87/',\n",
       " 'https://www.ebanglalibrary.com/genres/%e0%a6%86%e0%a6%a4%e0%a7%8d%e0%a6%ae%e0%a6%89%e0%a6%a8%e0%a7%8d%e0%a6%a8%e0%a6%af%e0%a6%bc%e0%a6%a8%e0%a6%ae%e0%a7%82%e0%a6%b2%e0%a6%95/',\n",
       " 'https://www.ebanglalibrary.com/genres/%e0%a6%86%e0%a6%a4%e0%a7%8d%e0%a6%ae%e0%a6%9c%e0%a7%80%e0%a6%ac%e0%a6%a8%e0%a7%80-%e0%a6%93-%e0%a6%b8%e0%a7%8d%e0%a6%ae%e0%a7%83%e0%a6%a4%e0%a6%bf%e0%a6%95%e0%a6%a5%e0%a6%be/',\n",
       " 'https://www.ebanglalibrary.com/genres/%e0%a6%87%e0%a6%a4%e0%a6%bf%e0%a6%b9%e0%a6%be%e0%a6%b8-%e0%a6%93-%e0%a6%b8%e0%a6%82%e0%a6%b8%e0%a7%8d%e0%a6%95%e0%a7%83%e0%a6%a4%e0%a6%bf/',\n",
       " 'https://www.ebanglalibrary.com/genres/%e0%a6%87%e0%a6%b8%e0%a6%b2%e0%a6%be%e0%a6%ae%e0%a6%bf%e0%a6%95-%e0%a6%ac%e0%a6%87/',\n",
       " 'https://www.ebanglalibrary.com/genres/%e0%a6%ac%e0%a6%be%e0%a6%82%e0%a6%b2%e0%a6%be-%e0%a6%89%e0%a6%aa%e0%a6%a8%e0%a7%8d%e0%a6%af%e0%a6%be%e0%a6%b8/',\n",
       " 'https://www.ebanglalibrary.com/genres/%e0%a6%ac%e0%a6%be%e0%a6%82%e0%a6%b2%e0%a6%be-%e0%a6%95%e0%a6%ac%e0%a6%bf%e0%a6%a4%e0%a6%be/',\n",
       " 'https://www.ebanglalibrary.com/genres/%e0%a6%95%e0%a6%bf%e0%a6%b6%e0%a7%8b%e0%a6%b0-%e0%a6%b8%e0%a6%be%e0%a6%b9%e0%a6%bf%e0%a6%a4%e0%a7%8d%e0%a6%af/',\n",
       " 'https://www.ebanglalibrary.com/genres/%e0%a6%97%e0%a6%a3%e0%a6%bf%e0%a6%a4-%e0%a6%ac%e0%a6%bf%e0%a6%9c%e0%a7%8d%e0%a6%9e%e0%a6%be%e0%a6%a8-%e0%a6%93-%e0%a6%aa%e0%a7%8d%e0%a6%b0%e0%a6%af%e0%a7%81%e0%a6%95%e0%a7%8d%e0%a6%a4%e0%a6%bf/',\n",
       " 'https://www.ebanglalibrary.com/genres/%e0%a6%ac%e0%a6%be%e0%a6%82%e0%a6%b2%e0%a6%be-%e0%a6%97%e0%a6%b2%e0%a7%8d%e0%a6%aa/',\n",
       " 'https://www.ebanglalibrary.com/genres/%e0%a6%ac%e0%a6%be%e0%a6%82%e0%a6%b2%e0%a6%be-%e0%a6%97%e0%a6%be%e0%a6%a8%e0%a7%87%e0%a6%b0-%e0%a6%ac%e0%a6%87/',\n",
       " 'https://www.ebanglalibrary.com/genres/%e0%a6%97%e0%a7%8b%e0%a6%af%e0%a6%bc%e0%a7%87%e0%a6%a8%e0%a7%8d%e0%a6%a6%e0%a6%be-%e0%a6%a1%e0%a6%bf%e0%a6%9f%e0%a7%87%e0%a6%95%e0%a6%9f%e0%a6%bf%e0%a6%ad/',\n",
       " 'https://www.ebanglalibrary.com/genres/%e0%a6%a5%e0%a7%8d%e0%a6%b0%e0%a6%bf%e0%a6%b2%e0%a6%be%e0%a6%b0-%e0%a6%b0%e0%a6%b9%e0%a6%b8%e0%a7%8d%e0%a6%af-%e0%a6%b0%e0%a7%8b%e0%a6%ae%e0%a6%be%e0%a6%9e%e0%a7%8d%e0%a6%9a-%e0%a6%85%e0%a7%8d/',\n",
       " 'https://www.ebanglalibrary.com/genres/%e0%a6%a7%e0%a6%b0%e0%a7%8d%e0%a6%ae-%e0%a6%93-%e0%a6%a6%e0%a6%b0%e0%a7%8d%e0%a6%b6%e0%a6%a8/',\n",
       " 'https://www.ebanglalibrary.com/genres/%e0%a6%a7%e0%a6%b0%e0%a7%8d%e0%a6%ae%e0%a7%80%e0%a6%af%e0%a6%bc-%e0%a6%ac%e0%a6%87/',\n",
       " 'https://www.ebanglalibrary.com/genres/%e0%a6%ac%e0%a6%be%e0%a6%82%e0%a6%b2%e0%a6%be-%e0%a6%a8%e0%a6%be%e0%a6%9f%e0%a6%95/',\n",
       " 'https://www.ebanglalibrary.com/genres/%e0%a6%aa%e0%a7%8d%e0%a6%b0%e0%a6%ac%e0%a6%a8%e0%a7%8d%e0%a6%a7-%e0%a6%93-%e0%a6%97%e0%a6%ac%e0%a7%87%e0%a6%b7%e0%a6%a3%e0%a6%be/',\n",
       " 'https://www.ebanglalibrary.com/genres/%e0%a6%aa%e0%a7%8d%e0%a6%b0%e0%a6%be%e0%a6%aa%e0%a7%8d%e0%a6%a4%e0%a6%ac%e0%a6%af%e0%a6%bc%e0%a6%b8%e0%a7%8d%e0%a6%95%e0%a6%a6%e0%a7%87%e0%a6%b0-%e0%a6%ac%e0%a6%87-%e0%a7%a7%e0%a7%ae/',\n",
       " 'https://www.ebanglalibrary.com/genres/%e0%a6%ac%e0%a6%be%e0%a6%82%e0%a6%b2%e0%a6%be%e0%a6%a6%e0%a7%87%e0%a6%b6-%e0%a6%93-%e0%a6%ae%e0%a7%81%e0%a6%95%e0%a7%8d%e0%a6%a4%e0%a6%bf%e0%a6%af%e0%a7%81%e0%a6%a6%e0%a7%8d%e0%a6%a7-%e0%a6%ac/',\n",
       " 'https://www.ebanglalibrary.com/genres/%e0%a6%ad%e0%a7%8c%e0%a6%a4%e0%a6%bf%e0%a6%95/',\n",
       " 'https://www.ebanglalibrary.com/genres/%e0%a6%ad%e0%a7%8d%e0%a6%b0%e0%a6%ae%e0%a6%a3-%e0%a6%95%e0%a6%be%e0%a6%b9%e0%a6%bf%e0%a6%a8%e0%a7%80/',\n",
       " 'https://www.ebanglalibrary.com/genres/%e0%a6%b0%e0%a6%9a%e0%a6%a8%e0%a6%be%e0%a6%b8%e0%a6%ae%e0%a6%97%e0%a7%8d%e0%a6%b0-%e0%a6%b0%e0%a6%9a%e0%a6%a8%e0%a6%be%e0%a6%ac%e0%a6%b2%e0%a7%80-%e0%a6%b8%e0%a6%82%e0%a6%95%e0%a6%b2%e0%a6%a8/',\n",
       " 'https://www.ebanglalibrary.com/genres/%e0%a6%b8%e0%a6%be%e0%a6%b9%e0%a6%bf%e0%a6%a4%e0%a7%8d%e0%a6%af-%e0%a6%93-%e0%a6%ad%e0%a6%be%e0%a6%b7%e0%a6%be/',\n",
       " 'https://www.ebanglalibrary.com/genres/%e0%a6%b8%e0%a6%be%e0%a6%af%e0%a6%bc%e0%a7%87%e0%a6%a8%e0%a7%8d%e0%a6%b8-%e0%a6%ab%e0%a6%bf%e0%a6%95%e0%a6%b6%e0%a6%a8-%e0%a6%ac%e0%a7%88%e0%a6%9c%e0%a7%8d%e0%a6%9e%e0%a6%be%e0%a6%a8%e0%a6%bf%e0%a6%95/',\n",
       " 'https://www.ebanglalibrary.com/genres/%e0%a6%b8%e0%a7%87%e0%a6%ac%e0%a6%be-%e0%a6%aa%e0%a7%8d%e0%a6%b0%e0%a6%95%e0%a6%be%e0%a6%b6%e0%a6%a8%e0%a7%80/',\n",
       " 'https://www.ebanglalibrary.com/category/%e0%a6%85%e0%a6%a8%e0%a7%81%e0%a6%ac%e0%a6%be%e0%a6%a6-%e0%a6%b8%e0%a6%be%e0%a6%b9%e0%a6%bf%e0%a6%a4%e0%a7%8d%e0%a6%af/',\n",
       " 'https://www.ebanglalibrary.com/category/%e0%a6%b8%e0%a7%87%e0%a6%ac%e0%a6%be-%e0%a6%aa%e0%a7%8d%e0%a6%b0%e0%a6%95%e0%a6%be%e0%a6%b6%e0%a6%a8%e0%a7%80/',\n",
       " 'https://www.ebanglalibrary.com/bangladictionary/',\n",
       " 'https://www.ebanglalibrary.com/banglajokes/',\n",
       " 'https://www.ebanglalibrary.com/banglalyrics/',\n",
       " 'https://www.ebanglalibrary.com/banglarecipe/',\n",
       " 'https://www.ebanglalibrary.com/category/%e0%a6%ac%e0%a6%be%e0%a6%82%e0%a6%b2%e0%a6%be-%e0%a6%95%e0%a7%8b%e0%a6%b0%e0%a6%86%e0%a6%a8/',\n",
       " 'https://www.ebanglalibrary.com/category/%e0%a6%ac%e0%a6%be%e0%a6%82%e0%a6%b2%e0%a6%be-%e0%a6%b9%e0%a6%be%e0%a6%a6%e0%a6%bf%e0%a6%b8/',\n",
       " 'https://www.ebanglalibrary.com/category/%e0%a6%ac%e0%a6%be%e0%a6%82%e0%a6%b2%e0%a6%be-%e0%a6%a4%e0%a7%8d%e0%a6%b0%e0%a6%bf%e0%a6%aa%e0%a6%bf%e0%a6%9f%e0%a6%95/',\n",
       " 'https://www.ebanglalibrary.com/category/%e0%a6%ac%e0%a6%be%e0%a6%82%e0%a6%b2%e0%a6%be-%e0%a6%ae%e0%a6%b9%e0%a6%be%e0%a6%ad%e0%a6%be%e0%a6%b0%e0%a6%a4/',\n",
       " 'https://www.ebanglalibrary.com/category/%e0%a6%ac%e0%a6%be%e0%a6%82%e0%a6%b2%e0%a6%be-%e0%a6%b0%e0%a6%be%e0%a6%ae%e0%a6%be%e0%a7%9f%e0%a6%a3/',\n",
       " 'https://www.ebanglalibrary.com/category/%e0%a6%ac%e0%a6%be%e0%a6%82%e0%a6%b2%e0%a6%be-%e0%a6%aa%e0%a7%81%e0%a6%b0%e0%a6%be%e0%a6%a3/',\n",
       " 'https://www.ebanglalibrary.com/category/%e0%a6%ac%e0%a6%be%e0%a6%82%e0%a6%b2%e0%a6%be-%e0%a6%97%e0%a7%80%e0%a6%a4%e0%a6%be/',\n",
       " 'https://www.ebanglalibrary.com/category/%e0%a6%ac%e0%a6%be%e0%a6%82%e0%a6%b2%e0%a6%be-%e0%a6%ac%e0%a6%be%e0%a6%87%e0%a6%ac%e0%a7%87%e0%a6%b2/']"
      ]
     },
     "execution_count": 25,
     "metadata": {},
     "output_type": "execute_result"
    }
   ],
   "source": [
    "# 1st keys of the visited_links\n",
    "list(visited_links.keys())[:100]\n"
   ]
  },
  {
   "cell_type": "code",
   "execution_count": null,
   "metadata": {},
   "outputs": [],
   "source": []
  }
 ],
 "metadata": {
  "kernelspec": {
   "display_name": "torch_env",
   "language": "python",
   "name": "python3"
  },
  "language_info": {
   "codemirror_mode": {
    "name": "ipython",
    "version": 3
   },
   "file_extension": ".py",
   "mimetype": "text/x-python",
   "name": "python",
   "nbconvert_exporter": "python",
   "pygments_lexer": "ipython3",
   "version": "3.9.19"
  }
 },
 "nbformat": 4,
 "nbformat_minor": 2
}
